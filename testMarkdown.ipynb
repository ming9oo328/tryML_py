{
 "cells": [
  {
   "cell_type": "markdown",
   "id": "3b54e55b-1d73-4216-87ec-02bf09203603",
   "metadata": {},
   "source": [
    "# Header1\n",
    "## Header2\n",
    "### Header3\n",
    "\n",
    "###### Header6\n",
    "####### 7개는 적용이 안된 모습을 확인할 수 있다."
   ]
  },
  {
   "cell_type": "markdown",
   "id": "2eb14363-8dc7-49b9-aa5e-b4fd472a9019",
   "metadata": {},
   "source": [
    "> 주석 달기\n",
    "> >주석 안에 주석도 가능하다\n",
    "\n",
    "**마크다운 문법 활용도 가능하다**"
   ]
  },
  {
   "cell_type": "markdown",
   "id": "2cadb113-986e-4518-84ef-8090f5c0e931",
   "metadata": {},
   "source": [
    "1. 순서가\n",
    "2. 있는\n",
    "3. 리스트\n",
    "\n",
    "- 순서가\n",
    "- 없는\n",
    "- 리스트"
   ]
  },
  {
   "cell_type": "markdown",
   "id": "80c42f4e-48d1-40ed-9071-bf1867b0251b",
   "metadata": {},
   "source": [
    "$x+y=6$  \n",
    "*이텔릭체*  \n",
    "**볼드체**  \n",
    "```print(\"testing!\")```  \n",
    "[밍구의 노션](https://www.notion.so/ee3dc28461614ce7a3dedcd405e47a1b?v=a9d52ae52eba4447998a6ebd1fea5ce0&p=9b10883c8fcd41d68395e6cd5326bde4&pm=s)\n"
   ]
  },
  {
   "cell_type": "code",
   "execution_count": null,
   "id": "9b6f9b51-78c6-4c22-a8f4-79ee9e877b08",
   "metadata": {},
   "outputs": [],
   "source": []
  }
 ],
 "metadata": {
  "kernelspec": {
   "display_name": "Python 3 (ipykernel)",
   "language": "python",
   "name": "python3"
  },
  "language_info": {
   "codemirror_mode": {
    "name": "ipython",
    "version": 3
   },
   "file_extension": ".py",
   "mimetype": "text/x-python",
   "name": "python",
   "nbconvert_exporter": "python",
   "pygments_lexer": "ipython3",
   "version": "3.11.7"
  }
 },
 "nbformat": 4,
 "nbformat_minor": 5
}
